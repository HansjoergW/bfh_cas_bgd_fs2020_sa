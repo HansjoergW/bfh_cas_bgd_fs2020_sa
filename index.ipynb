{
 "cells": [
  {
   "cell_type": "markdown",
   "metadata": {},
   "source": [
    "# Semesterarbeit CAS BGD FS 2020 BFH\n",
    "> \"Semesterarbeit\" for CAS BigData at BFH, Switzerland."
   ]
  },
  {
   "cell_type": "markdown",
   "metadata": {},
   "source": [
    "These GitHub project contains all Juypter Notebooks which run directly on my laptop. "
   ]
  },
  {
   "cell_type": "markdown",
   "metadata": {},
   "source": [
    "The project contains the following Notebooks\n",
    "<br>\n",
    "__core__\n",
    "* 00_00_core.ipynb contains utility functions that are shared\n",
    "\n",
    "__Trials__\n",
    "* 00_01_Parquet_Basics.ipynb contains code snippets that show the basics of reading and writing parquet\n",
    "\n",
    "__Preprocessing__\n",
    "* 01_01_Download_SEC_Data.ipynb shows how the data can be downloaded with parallelized Spark tasks\n",
    "* 01_02_Join_SEC_Data.ipynb merges the content of the files inside a zip into one CSV file\n",
    "* 01_03_Merge_To_Single_Parquet merges all CSV files together into one single Parquet file. Joins with TickerSymbol. Defines datatypes\n",
    "* 01_04_Filter_And_Partition filters the data: only use primary fin\n",
    "\n",
    "__Analysis__\n",
    "* 02_01_Analysis_Whole_Data conducts some basic analysis on the whole dataset\n"
   ]
  },
  {
   "cell_type": "code",
   "execution_count": null,
   "metadata": {},
   "outputs": [],
   "source": []
  }
 ],
 "metadata": {
  "kernelspec": {
   "display_name": "Python 3",
   "language": "python",
   "name": "python3"
  }
 },
 "nbformat": 4,
 "nbformat_minor": 4
}
