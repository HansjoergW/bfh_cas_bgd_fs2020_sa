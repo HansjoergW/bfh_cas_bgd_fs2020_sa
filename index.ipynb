{
 "cells": [
  {
   "cell_type": "markdown",
   "metadata": {},
   "source": [
    "#hide"
   ]
  },
  {
   "cell_type": "markdown",
   "metadata": {},
   "source": [
    "# Semesterarbeit CAS BGD FS 2020 BFH\n",
    "> \"Semesterarbeit\" for CAS BigData at BFH, Switzerland."
   ]
  },
  {
   "cell_type": "markdown",
   "metadata": {},
   "source": [
    "These GitHub project contains all Juypter Notebooks which run directly on my laptop. "
   ]
  },
  {
   "cell_type": "markdown",
   "metadata": {},
   "source": [
    "The project contains the following Notebooks\n",
    "* 00_core.ipynb contains utility functions that are shared\n",
    "* 01_parquet.ipynb contains code snippets that show the basics of reading and writing parquet\n",
    "* ...\n"
   ]
  }
 ],
 "metadata": {
  "kernelspec": {
   "display_name": "Python 3",
   "language": "python",
   "name": "python3"
  }
 },
 "nbformat": 4,
 "nbformat_minor": 4
}
