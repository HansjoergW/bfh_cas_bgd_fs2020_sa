{
 "cells": [
  {
   "cell_type": "markdown",
   "metadata": {},
   "source": [
    "# Semesterarbeit CAS BGD FS 2020 BFH\n",
    "> \"Semesterarbeit\" for CAS BigData at BFH, Switzerland."
   ]
  },
  {
   "cell_type": "markdown",
   "metadata": {},
   "source": [
    "These GitHub project contains all Juypter Notebooks which run directly on my laptop. "
   ]
  },
  {
   "cell_type": "markdown",
   "metadata": {},
   "source": [
    "The project contains the following Notebooks\n",
    "<br>\n",
    "__core__\n",
    "* 00_00_core.ipynb contains utility functions that are shared\n",
    "\n",
    "__UseCase 00 \"Trials\"__\n",
    "* 00_01_Parquet_Basics.ipynb contains code snippets that show the basics of reading and writing parquet\n",
    "\n",
    "__UseCase 01 \"BalanceSheet\"__\n",
    "* 01_01_Download_SEC_Data.ipynb Shows how the data can be downloaded with parallelized Spark tasks\n",
    "* 01_02_Join_SEC_Data.ipynb Joins the content of the files inside a zip into one CSV file\n",
    "* 01_03_Merge_To_Single_Parquet Merges all CSV files together into one single Parquet file. Joins with TickerSymbol. Defines datatypes\n",
    "* 01_04_Analysis_Whole_Data conducts Some basic analysis on the whole dataset\n",
    "* 01_05_Filter_And_Partition Filters the data: only use primary financial informations and data of companies traded at NASDAQ or NYSE\n",
    "* 01_06_Pivot_BS_Data Pivots the BalanceSheet data from its vertical form into a horizontal form\n",
    "* 01_07_Analysis_BalanceSheet Example analysis on the BalanceSheet Dataset\n",
    "\n",
    "\n"
   ]
  },
  {
   "cell_type": "code",
   "execution_count": null,
   "metadata": {},
   "outputs": [],
   "source": []
  }
 ],
 "metadata": {
  "kernelspec": {
   "display_name": "Python 3",
   "language": "python",
   "name": "python3"
  }
 },
 "nbformat": 4,
 "nbformat_minor": 4
}
