{
 "cells": [
  {
   "cell_type": "code",
   "execution_count": null,
   "metadata": {},
   "outputs": [],
   "source": []
  },
  {
   "cell_type": "markdown",
   "metadata": {},
   "source": [
    "\n",
    "When it comes to partitioning of the data, the following points should be considered:<br>\n",
    "* parallel processing has to be possible\n",
    "* most of the time, the all the data is processed as one group\n",
    "* it should also be possible to read data for a single company in an efficient way"
   ]
  },
  {
   "cell_type": "markdown",
   "metadata": {},
   "source": [
    "As a simple approach, we will create new month and year columns for the \"period\" column and we will create a cik_mod_10 column, which is the cik module 10.<br>\n",
    "This gives us the possibility to create the partition as year-month-cik_mod_10. Since we have about 10 years of data, this will create about 10*12*10=1200 partitions. So, every partition should have about 110'000'000 / 1'200, which is approx 100'000 entries.<br>\n",
    "This way, we should be able to select efficiently by the period date and by the cik number (provided that we provide the appropriate selects criterias."
   ]
  },
  {
   "cell_type": "markdown",
   "metadata": {},
   "source": [
    "### Create partitions with the test dataframe"
   ]
  },
  {
   "cell_type": "code",
   "execution_count": null,
   "metadata": {},
   "outputs": [],
   "source": [
    "from pyspark.sql.functions import col, year, month\n",
    "\n",
    "df_tst_partition = df_tst_join.withColumn(\"period_year\", year(\"period\")) \\\n",
    "                         .withColumn(\"period_month\", month(\"period\")) \\\n",
    "                         .withColumn(\"cik_mod_10\", col(\"cik\") % 5)"
   ]
  },
  {
   "cell_type": "code",
   "execution_count": null,
   "metadata": {},
   "outputs": [
    {
     "name": "stdout",
     "output_type": "stream",
     "text": [
      "duration:  338.159051656723\n"
     ]
    }
   ],
   "source": [
    "shutil.rmtree(tst_parquet_folder,  ignore_errors=True)\n",
    "start = time.time()\n",
    "df_tst_partition.write.partitionBy('period_year', 'period_month', 'cik_mod_10').parquet(tst_parquet_folder)\n",
    "duration = time.time() - start\n",
    "print(\"duration: \", duration)"
   ]
  },
  {
   "cell_type": "code",
   "execution_count": null,
   "metadata": {},
   "outputs": [],
   "source": [
    "result = df_tst_partition.filter(df_tst_partition.period_year == 2011)"
   ]
  },
  {
   "cell_type": "code",
   "execution_count": null,
   "metadata": {},
   "outputs": [
    {
     "name": "stdout",
     "output_type": "stream",
     "text": [
      "+-------+--------------------+--------------------+------------+-----+----------+----+------+-----+--------+------------------+----+---------+------+---------------+-----+--------------------+----+------------+---------+------+---------------+-----+--------------------+----+----------+-------+---+--------------------+--------+-----+----+----+----+----------+----+---+----------+--------------------+-------+------+-----------------+-----+-----+------+----+----+-----+-----+--------------------+--------+------+--------------------+--------+-----------+------------+----------+\n",
      "|    cik|                adsh|                 tag|     version|coreg|     ddate|qtrs|   uom|value|footnote|              name| sic|countryba|stprba|         cityba|zipba|                bas1|bas2|        baph|countryma|stprma|         cityma|zipma|                mas1|mas2|countryinc|stprinc|ein|              former| changed|  afs|wksi| fye|form|    period|  fy| fp|     filed|            accepted|prevrpt|detail|         instance|nciks|aciks|report|line|stmt|inpth|rfile|              plabel|negating|ticker|        name_cik_tic|exchange|period_year|period_month|cik_mod_10|\n",
      "+-------+--------------------+--------------------+------------+-----+----------+----+------+-----+--------+------------------+----+---------+------+---------------+-----+--------------------+----+------------+---------+------+---------------+-----+--------------------+----+----------+-------+---+--------------------+--------+-----+----+----+----+----------+----+---+----------+--------------------+-------+------+-----------------+-----+-----+------+----+----+-----+-----+--------------------+--------+------+--------------------+--------+-----------+------------+----------+\n",
      "|1415306|0001753926-19-000212|ClassOfWarrantOrR...|us-gaap/2019| null|2011-09-30|   0|shares|7.2E7|    null|PURESPECTRUM, INC.|7361|       US|    FL|WEST PALM BEACH|33401|224 DATURA STREET...|null|954-837-6800|       US|    FL|WEST PALM BEACH|33401|224 DATURA STREET...|null|        US|     DE|  0|INTERNATIONAL MED...|20071016|4-NON|   0|1231|10-Q|2011-09-30|2011| Q3|2019-10-21|2019-11-13 13:50:...|      0|     1|psru-20110930.xml|    1| null|  null|null|null| null| null|                null|    null|  PSRU|International Med...|     OTC|       2011|           9|         1|\n",
      "|1415306|0001753926-19-000212|GainLossOnDisposi...|us-gaap/2019| null|2010-09-30|   3|   USD| null|    null|PURESPECTRUM, INC.|7361|       US|    FL|WEST PALM BEACH|33401|224 DATURA STREET...|null|954-837-6800|       US|    FL|WEST PALM BEACH|33401|224 DATURA STREET...|null|        US|     DE|  0|INTERNATIONAL MED...|20071016|4-NON|   0|1231|10-Q|2011-09-30|2011| Q3|2019-10-21|2019-11-13 13:50:...|      0|     1|psru-20110930.xml|    1| null|     4|  13|  IS|    0|    H|Loss on Asset Dis...|       0|  PSRU|International Med...|     OTC|       2011|           9|         1|\n",
      "+-------+--------------------+--------------------+------------+-----+----------+----+------+-----+--------+------------------+----+---------+------+---------------+-----+--------------------+----+------------+---------+------+---------------+-----+--------------------+----+----------+-------+---+--------------------+--------+-----+----+----+----+----------+----+---+----------+--------------------+-------+------+-----------------+-----+-----+------+----+----+-----+-----+--------------------+--------+------+--------------------+--------+-----------+------------+----------+\n",
      "only showing top 2 rows\n",
      "\n"
     ]
    }
   ],
   "source": [
    "result.show(2)"
   ]
  }
 ],
 "metadata": {
  "kernelspec": {
   "display_name": "Python 3",
   "language": "python",
   "name": "python3"
  }
 },
 "nbformat": 4,
 "nbformat_minor": 4
}
